{
 "cells": [
  {
   "cell_type": "markdown",
   "metadata": {
    "collapsed": true
   },
   "source": [
    "# Restaurant Recommendation System"
   ]
  },
  {
   "cell_type": "markdown",
   "metadata": {},
   "source": [
    "## Introduction"
   ]
  },
  {
   "cell_type": "markdown",
   "metadata": {},
   "source": [
    "The aim of this document is to explore the idea of a recommendation system that would recommend restaurants to people in the New York neighborhood. This report describes the work to learn to predict the user's preferences and make recommendations to them based on historical data related to their past preferences and ratings and the data related to the retaurants available in the neighborhood or New York."
   ]
  },
  {
   "cell_type": "markdown",
   "metadata": {},
   "source": [
    "## Table of Contents  "
   ]
  },
  {
   "cell_type": "markdown",
   "metadata": {},
   "source": [
    "1. Business Problem\n",
    "2. Data Requirements\n",
    "3. Data Collection"
   ]
  },
  {
   "cell_type": "markdown",
   "metadata": {},
   "source": [
    "## Business Problem"
   ]
  },
  {
   "cell_type": "markdown",
   "metadata": {},
   "source": [
    "Lately there has been a tremendous increase in the number of people travelling and exploring new places across the globe. People visiting new places would love to get recommendations about things to do, about places to see and about places to dine in. This has resulted in the increased popularity of several recommendation websites and apps like Yelp that provide recommendations to people. \n",
    "\n",
    "Being able to recommend restaurants for people to dine in when they are travelling or visiting a new place is a very valuable feature as far as the recommendation system goes. In this document the we will try and build a model that would recommend restaurants to users in the neighborhoods of New York based on what is popular in a certain place based on ratings and reviews provided by other people and also based on the user's past preferences in terms of the cuisines that they prefer to eat.\n",
    "\n",
    "In this document we will try to explore and optimize the algorithms to provide a recommendation of the top restaurants to the user and try and validate the accuracy of the model. In our model we will try to take into account the preferences of the user and also the popularity of the restaurants in the neighborhoods of New York."
   ]
  },
  {
   "cell_type": "markdown",
   "metadata": {},
   "source": [
    "## Data Requirements"
   ]
  },
  {
   "cell_type": "markdown",
   "metadata": {},
   "source": [
    "To be able to make recommendations, we will need some data that will form the basis for our recommendation.\n",
    "\n",
    "How can we make recommendations regarding restaurants to a user? For being able to make recommendations we will need to understand the users preferences in terms of what kind of food they like to eat. \n",
    "\n",
    "Is it enough if we understand the users preferences for being able to make a recommendation? No, in addition to understanding the preferences of the user for whom we are making the recommendation, we will also need to identify the neighborhoods of New York and then get the list of restaurants that are present in the neighborhoods of New York and the also understand their popularity to know which ones are good and which ones are not."
   ]
  },
  {
   "cell_type": "markdown",
   "metadata": {},
   "source": [
    "## Data Collection"
   ]
  },
  {
   "cell_type": "markdown",
   "metadata": {},
   "source": [
    "There is a variety of data that we need for building our recommendation system and this will need to be collected from various sources as identified below.\n",
    "\n",
    "1) Neighborhood data for New York : \n",
    "    The Neighborhood has a total of 5 boroughs and 306 neighborhoods. We will essentially need a dataset that contains the 5 boroughs and the neighborhoods that exist in each borough as well as the the latitude and logitude coordinates of each neighborhood. This dataset is provided by New York University and is available for free on the web. We will download and use this data for the Neighborhood data.\n",
    "    \n",
    "2) Restaurant Data for New York :\n",
    "    We will use the Places API provided by Foursquare and gather location data regarding restaurants using their API. For using their API for get the location data pertaining to the restaurants in the neighborhoods of New York, we will need the latitude and longitude coordinates for the neighborhoods. The coordinates are available to us as part of the Neighborhood data that we collected in 1).\n",
    " \n",
    "3) Ratings Data for the Restaurants:\n",
    "    We will again use the Places API provided by Foursquare to gather the ratings data for the list of restaurants that we collected in 2)."
   ]
  },
  {
   "cell_type": "markdown",
   "metadata": {},
   "source": [
    "### 1) Neighborhood data for New York:"
   ]
  },
  {
   "cell_type": "markdown",
   "metadata": {},
   "source": [
    "We will download the dataset pertaining to the nighborhoods of New York from ***https://<span></span>cocl.us/new_york_dataset***"
   ]
  },
  {
   "cell_type": "code",
   "execution_count": 2,
   "metadata": {},
   "outputs": [
    {
     "name": "stdout",
     "output_type": "stream",
     "text": [
      "Data downloaded!\n"
     ]
    }
   ],
   "source": [
    "!wget -q -O 'New_York_Neighborhood_Data.json' https://cocl.us/new_york_dataset\n",
    "print('Data downloaded!')"
   ]
  },
  {
   "cell_type": "markdown",
   "metadata": {},
   "source": [
    "Let us load the neighborhood data from the json file and take a quick look at the data in the file."
   ]
  },
  {
   "cell_type": "code",
   "execution_count": 7,
   "metadata": {},
   "outputs": [],
   "source": [
    "# import the json library for handling json files\n",
    "import json\n",
    "\n",
    "# Load the data from the json file\n",
    "with open ('New_York_Neighborhood_Data.json') as json_data:\n",
    "    ny_neighborhood_data = json.load(json_data)"
   ]
  },
  {
   "cell_type": "markdown",
   "metadata": {},
   "source": [
    "json.load() returns the list of neighborhoods data with features as the key. Let us take a look at the data pertaining to one neighborhood from this list."
   ]
  },
  {
   "cell_type": "code",
   "execution_count": 8,
   "metadata": {},
   "outputs": [
    {
     "data": {
      "text/plain": [
       "{'geometry': {'coordinates': [-73.84720052054902, 40.89470517661],\n",
       "  'type': 'Point'},\n",
       " 'geometry_name': 'geom',\n",
       " 'id': 'nyu_2451_34572.1',\n",
       " 'properties': {'annoangle': 0.0,\n",
       "  'annoline1': 'Wakefield',\n",
       "  'annoline2': None,\n",
       "  'annoline3': None,\n",
       "  'bbox': [-73.84720052054902,\n",
       "   40.89470517661,\n",
       "   -73.84720052054902,\n",
       "   40.89470517661],\n",
       "  'borough': 'Bronx',\n",
       "  'name': 'Wakefield',\n",
       "  'stacked': 1},\n",
       " 'type': 'Feature'}"
      ]
     },
     "execution_count": 8,
     "metadata": {},
     "output_type": "execute_result"
    }
   ],
   "source": [
    "ny_neighborhood_data['features'][0]"
   ]
  },
  {
   "cell_type": "markdown",
   "metadata": {},
   "source": [
    "Let us read the data for all the neighborhoods of New York from this list and load it into a pandas dataframe."
   ]
  },
  {
   "cell_type": "code",
   "execution_count": 9,
   "metadata": {},
   "outputs": [
    {
     "name": "stdout",
     "output_type": "stream",
     "text": [
      "Shape of dataframe is  (306, 4)\n"
     ]
    },
    {
     "data": {
      "text/html": [
       "<div>\n",
       "<style scoped>\n",
       "    .dataframe tbody tr th:only-of-type {\n",
       "        vertical-align: middle;\n",
       "    }\n",
       "\n",
       "    .dataframe tbody tr th {\n",
       "        vertical-align: top;\n",
       "    }\n",
       "\n",
       "    .dataframe thead th {\n",
       "        text-align: right;\n",
       "    }\n",
       "</style>\n",
       "<table border=\"1\" class=\"dataframe\">\n",
       "  <thead>\n",
       "    <tr style=\"text-align: right;\">\n",
       "      <th></th>\n",
       "      <th>Borough</th>\n",
       "      <th>Neighborhood</th>\n",
       "      <th>Latitude</th>\n",
       "      <th>Longitude</th>\n",
       "    </tr>\n",
       "  </thead>\n",
       "  <tbody>\n",
       "    <tr>\n",
       "      <th>0</th>\n",
       "      <td>Bronx</td>\n",
       "      <td>Wakefield</td>\n",
       "      <td>40.894705</td>\n",
       "      <td>-73.847201</td>\n",
       "    </tr>\n",
       "    <tr>\n",
       "      <th>1</th>\n",
       "      <td>Bronx</td>\n",
       "      <td>Co-op City</td>\n",
       "      <td>40.874294</td>\n",
       "      <td>-73.829939</td>\n",
       "    </tr>\n",
       "    <tr>\n",
       "      <th>2</th>\n",
       "      <td>Bronx</td>\n",
       "      <td>Eastchester</td>\n",
       "      <td>40.887556</td>\n",
       "      <td>-73.827806</td>\n",
       "    </tr>\n",
       "    <tr>\n",
       "      <th>3</th>\n",
       "      <td>Bronx</td>\n",
       "      <td>Fieldston</td>\n",
       "      <td>40.895437</td>\n",
       "      <td>-73.905643</td>\n",
       "    </tr>\n",
       "    <tr>\n",
       "      <th>4</th>\n",
       "      <td>Bronx</td>\n",
       "      <td>Riverdale</td>\n",
       "      <td>40.890834</td>\n",
       "      <td>-73.912585</td>\n",
       "    </tr>\n",
       "  </tbody>\n",
       "</table>\n",
       "</div>"
      ],
      "text/plain": [
       "  Borough Neighborhood   Latitude  Longitude\n",
       "0   Bronx    Wakefield  40.894705 -73.847201\n",
       "1   Bronx   Co-op City  40.874294 -73.829939\n",
       "2   Bronx  Eastchester  40.887556 -73.827806\n",
       "3   Bronx    Fieldston  40.895437 -73.905643\n",
       "4   Bronx    Riverdale  40.890834 -73.912585"
      ]
     },
     "execution_count": 9,
     "metadata": {},
     "output_type": "execute_result"
    }
   ],
   "source": [
    "# import the pandas library\n",
    "import pandas as pd\n",
    "\n",
    "# extract the list of neighborhoods\n",
    "list_neighborhood_data = ny_neighborhood_data['features']\n",
    "\n",
    "# Define the empty data frame for loading the neighborhood data\n",
    "df_ny_neighborhood_data = pd.DataFrame(columns = ['Borough', 'Neighborhood', 'Latitude', 'Longitude'])\n",
    "\n",
    "for i in range(0,len(list_neighborhood_data)):\n",
    "    borough = list_neighborhood_data[i]['properties']['borough']\n",
    "    neighborhood = list_neighborhood_data[i]['properties']['name']\n",
    "    latitude = list_neighborhood_data[i]['geometry']['coordinates'][1]\n",
    "    longitude = list_neighborhood_data[i]['geometry']['coordinates'][0]\n",
    "    \n",
    "    df_ny_neighborhood_data = df_ny_neighborhood_data.append ({'Borough' : borough,\n",
    "                                                               'Neighborhood' : neighborhood,\n",
    "                                                               'Latitude' : latitude,\n",
    "                                                               'Longitude' : longitude}, ignore_index=True)\n",
    "\n",
    "print ('Shape of dataframe is ', df_ny_neighborhood_data.shape)\n",
    "df_ny_neighborhood_data.head()"
   ]
  },
  {
   "cell_type": "markdown",
   "metadata": {},
   "source": [
    "### 2) Restaurant Data for New York from Foursquare"
   ]
  },
  {
   "cell_type": "markdown",
   "metadata": {},
   "source": [
    "Let us define the credentials for accessing the Foursquare API."
   ]
  },
  {
   "cell_type": "code",
   "execution_count": 10,
   "metadata": {},
   "outputs": [],
   "source": [
    "CLIENT_ID = '532CJWN2YHXD2TR0JF2J32FFAJ1OOSVBUAJ4G3BUFXV5ZURB' # your Foursquare ID\n",
    "CLIENT_SECRET = 'AHAELISONAQKGDESXTPGT1O04GRTOZFMJYVY11I4TZIYLSVT' # your Foursquare Secret\n",
    "VERSION = '20180604' # version of Foursquare API to be used"
   ]
  },
  {
   "cell_type": "markdown",
   "metadata": {},
   "source": [
    "Using the Search API, let us search for restaurants in the neighborhoods of New York and load the restaurants data into a pandas dataframe. "
   ]
  },
  {
   "cell_type": "code",
   "execution_count": 11,
   "metadata": {},
   "outputs": [
    {
     "data": {
      "text/html": [
       "<div>\n",
       "<style scoped>\n",
       "    .dataframe tbody tr th:only-of-type {\n",
       "        vertical-align: middle;\n",
       "    }\n",
       "\n",
       "    .dataframe tbody tr th {\n",
       "        vertical-align: top;\n",
       "    }\n",
       "\n",
       "    .dataframe thead th {\n",
       "        text-align: right;\n",
       "    }\n",
       "</style>\n",
       "<table border=\"1\" class=\"dataframe\">\n",
       "  <thead>\n",
       "    <tr style=\"text-align: right;\">\n",
       "      <th></th>\n",
       "      <th>Borough</th>\n",
       "      <th>Neighborhood</th>\n",
       "      <th>Neigh_Latitude</th>\n",
       "      <th>Neigh_Longitude</th>\n",
       "      <th>Restaurant_Name</th>\n",
       "      <th>Restaurant_City</th>\n",
       "      <th>Restaurant_Address</th>\n",
       "      <th>Restaurant_Latitude</th>\n",
       "      <th>Restaurant_Longitude</th>\n",
       "      <th>Restaurant_Category</th>\n",
       "      <th>Foursquare_Venue_Id</th>\n",
       "    </tr>\n",
       "  </thead>\n",
       "  <tbody>\n",
       "    <tr>\n",
       "      <th>0</th>\n",
       "      <td>Bronx</td>\n",
       "      <td>Wakefield</td>\n",
       "      <td>40.894705</td>\n",
       "      <td>-73.847201</td>\n",
       "      <td>Big Daddy's Caribbean Taste Restaurant</td>\n",
       "      <td>Bronx</td>\n",
       "      <td>[4406 White Plains Rd (Nereid Avenue), Bronx, ...</td>\n",
       "      <td>40.899767</td>\n",
       "      <td>-73.857135</td>\n",
       "      <td>Caribbean Restaurant</td>\n",
       "      <td>4db03c875da32cf2df4509f4</td>\n",
       "    </tr>\n",
       "    <tr>\n",
       "      <th>1</th>\n",
       "      <td>Bronx</td>\n",
       "      <td>Wakefield</td>\n",
       "      <td>40.894705</td>\n",
       "      <td>-73.847201</td>\n",
       "      <td>Red Flower Chinese Restaurant</td>\n",
       "      <td>Bronx</td>\n",
       "      <td>[4733 White Plains Rd, Bronx, NY 10470, United...</td>\n",
       "      <td>40.904359</td>\n",
       "      <td>-73.849795</td>\n",
       "      <td>Chinese Restaurant</td>\n",
       "      <td>4e4de62abd4101d0d79dae8c</td>\n",
       "    </tr>\n",
       "  </tbody>\n",
       "</table>\n",
       "</div>"
      ],
      "text/plain": [
       "  Borough Neighborhood  Neigh_Latitude  Neigh_Longitude  \\\n",
       "0   Bronx    Wakefield       40.894705       -73.847201   \n",
       "1   Bronx    Wakefield       40.894705       -73.847201   \n",
       "\n",
       "                          Restaurant_Name Restaurant_City  \\\n",
       "0  Big Daddy's Caribbean Taste Restaurant           Bronx   \n",
       "1           Red Flower Chinese Restaurant           Bronx   \n",
       "\n",
       "                                  Restaurant_Address  Restaurant_Latitude  \\\n",
       "0  [4406 White Plains Rd (Nereid Avenue), Bronx, ...            40.899767   \n",
       "1  [4733 White Plains Rd, Bronx, NY 10470, United...            40.904359   \n",
       "\n",
       "   Restaurant_Longitude   Restaurant_Category       Foursquare_Venue_Id  \n",
       "0            -73.857135  Caribbean Restaurant  4db03c875da32cf2df4509f4  \n",
       "1            -73.849795    Chinese Restaurant  4e4de62abd4101d0d79dae8c  "
      ]
     },
     "execution_count": 11,
     "metadata": {},
     "output_type": "execute_result"
    }
   ],
   "source": [
    "# import library to handle requests\n",
    "import requests\n",
    "\n",
    "# create a pandas dataframe for storing New York neighborhoods and restaurants data in one table\n",
    "df_newyork_restaurants = pd.DataFrame(columns = ['Borough', 'Neighborhood', 'Neigh_Latitude', 'Neigh_Longitude', 'Restaurant_Name',\n",
    "                                                 'Restaurant_City', 'Restaurant_Address', 'Restaurant_Latitude', 'Restaurant_Longitude', \n",
    "                                                 'Restaurant_Category', 'Foursquare_Venue_Id'])\n",
    "\n",
    "# URL parameters\n",
    "RADIUS = 2000\n",
    "QUERY = 'restaurant'\n",
    "LIMIT = 50\n",
    "\n",
    "# Loop through the New York neighborhood data\n",
    "for index, row in df_ny_neighborhood_data.iterrows():\n",
    "    # retrieve neighborhood details from the dataframe for current row\n",
    "    borough = row[0]\n",
    "    neighborhood = row[1]\n",
    "    LATITUDE = row[2]\n",
    "    LONGITUDE = row[3]\n",
    "    \n",
    "    # fetch the results from the Search API for the neighborhood\n",
    "    url = 'https://api.foursquare.com/v2/venues/search?client_id={}&client_secret={}&ll={},{}&v={}&query={}&radius={}&limit={}'.format(CLIENT_ID,\n",
    "                                                                                                                                   CLIENT_SECRET,\n",
    "                                                                                                                                   LATITUDE,\n",
    "                                                                                                                                   LONGITUDE,\n",
    "                                                                                                                                   VERSION,\n",
    "                                                                                                                                   QUERY,\n",
    "                                                                                                                                   RADIUS,\n",
    "                                                                                                                                   LIMIT)\n",
    "    results = requests.get(url).json()\n",
    "    \n",
    "    # Loop through the List of restaurants retrieved from Foursquare for the neighborhood\n",
    "    for i in range(0,len(results['response']['venues'])):\n",
    "        # retrieve restaurant details from the result list for current row\n",
    "        restaurant_name = results['response']['venues'][i]['name']\n",
    "\n",
    "        try:\n",
    "            restaurant_city = results['response']['venues'][i]['location']['city']\n",
    "        except:\n",
    "            restaurant_city = ''\n",
    "            \n",
    "        restaurant_address = results['response']['venues'][i]['location']['formattedAddress']\n",
    "        restaurant_latitude = results['response']['venues'][i]['location']['lat']\n",
    "        restaurant_longitude = results['response']['venues'][i]['location']['lng']\n",
    "        restaurant_Venue_id = results['response']['venues'][i]['id']\n",
    "\n",
    "        # Check to see if the restaurant has any categories\n",
    "        if (len(results['response']['venues'][i]['categories']) > 0):\n",
    "            restaurant_category = results['response']['venues'][i]['categories'][0]['name']\n",
    "        else:\n",
    "            restaurant_category = ''\n",
    "        \n",
    "        # Add the data row to the restaurants dataframe\n",
    "        df_newyork_restaurants = df_newyork_restaurants.append({'Borough' : borough,\n",
    "                                                                'Neighborhood' : neighborhood, \n",
    "                                                                'Neigh_Latitude' : LATITUDE, \n",
    "                                                                'Neigh_Longitude' : LONGITUDE, \n",
    "                                                                'Restaurant_Name' : restaurant_name,\n",
    "                                                                'Restaurant_City' : restaurant_city,\n",
    "                                                                'Restaurant_Address' : restaurant_address,\n",
    "                                                                'Restaurant_Latitude' : restaurant_latitude,\n",
    "                                                                'Restaurant_Longitude' : restaurant_longitude, \n",
    "                                                                'Restaurant_Category' : restaurant_category,\n",
    "                                                                'Foursquare_Venue_Id' : restaurant_Venue_id}, ignore_index=True)\n",
    "\n",
    "# Print the first 10 rows of the Restaurants dataframe\n",
    "df_newyork_restaurants.head(2)"
   ]
  },
  {
   "cell_type": "code",
   "execution_count": 12,
   "metadata": {},
   "outputs": [
    {
     "data": {
      "text/plain": [
       "(12892, 11)"
      ]
     },
     "execution_count": 12,
     "metadata": {},
     "output_type": "execute_result"
    }
   ],
   "source": [
    "df_newyork_restaurants.shape"
   ]
  },
  {
   "cell_type": "markdown",
   "metadata": {},
   "source": [
    "The number of 12892 seems to be very high for the number of restaurants in the City of New York. Let us check to see if there are any duplicate entries for restaurants in the data set obtained."
   ]
  },
  {
   "cell_type": "code",
   "execution_count": 14,
   "metadata": {},
   "outputs": [
    {
     "data": {
      "text/plain": [
       "3759"
      ]
     },
     "execution_count": 14,
     "metadata": {},
     "output_type": "execute_result"
    }
   ],
   "source": [
    "len(df_newyork_restaurants['Foursquare_Venue_Id'].unique())"
   ]
  },
  {
   "cell_type": "markdown",
   "metadata": {},
   "source": [
    "We can see that our guess was right. There are only 3759 unique restaurants in the data set. So let us cleanup the restaurants dataset by removing the duplicates from the dataframe."
   ]
  },
  {
   "cell_type": "code",
   "execution_count": 16,
   "metadata": {},
   "outputs": [
    {
     "name": "stdout",
     "output_type": "stream",
     "text": [
      "(3759, 11)\n"
     ]
    },
    {
     "data": {
      "text/html": [
       "<div>\n",
       "<style scoped>\n",
       "    .dataframe tbody tr th:only-of-type {\n",
       "        vertical-align: middle;\n",
       "    }\n",
       "\n",
       "    .dataframe tbody tr th {\n",
       "        vertical-align: top;\n",
       "    }\n",
       "\n",
       "    .dataframe thead th {\n",
       "        text-align: right;\n",
       "    }\n",
       "</style>\n",
       "<table border=\"1\" class=\"dataframe\">\n",
       "  <thead>\n",
       "    <tr style=\"text-align: right;\">\n",
       "      <th></th>\n",
       "      <th>Borough</th>\n",
       "      <th>Neighborhood</th>\n",
       "      <th>Neigh_Latitude</th>\n",
       "      <th>Neigh_Longitude</th>\n",
       "      <th>Restaurant_Name</th>\n",
       "      <th>Restaurant_City</th>\n",
       "      <th>Restaurant_Address</th>\n",
       "      <th>Restaurant_Latitude</th>\n",
       "      <th>Restaurant_Longitude</th>\n",
       "      <th>Restaurant_Category</th>\n",
       "      <th>Foursquare_Venue_Id</th>\n",
       "    </tr>\n",
       "  </thead>\n",
       "  <tbody>\n",
       "    <tr>\n",
       "      <th>0</th>\n",
       "      <td>Bronx</td>\n",
       "      <td>Wakefield</td>\n",
       "      <td>40.894705</td>\n",
       "      <td>-73.847201</td>\n",
       "      <td>Big Daddy's Caribbean Taste Restaurant</td>\n",
       "      <td>Bronx</td>\n",
       "      <td>[4406 White Plains Rd (Nereid Avenue), Bronx, ...</td>\n",
       "      <td>40.899767</td>\n",
       "      <td>-73.857135</td>\n",
       "      <td>Caribbean Restaurant</td>\n",
       "      <td>4db03c875da32cf2df4509f4</td>\n",
       "    </tr>\n",
       "    <tr>\n",
       "      <th>1</th>\n",
       "      <td>Bronx</td>\n",
       "      <td>Wakefield</td>\n",
       "      <td>40.894705</td>\n",
       "      <td>-73.847201</td>\n",
       "      <td>Red Flower Chinese Restaurant</td>\n",
       "      <td>Bronx</td>\n",
       "      <td>[4733 White Plains Rd, Bronx, NY 10470, United...</td>\n",
       "      <td>40.904359</td>\n",
       "      <td>-73.849795</td>\n",
       "      <td>Chinese Restaurant</td>\n",
       "      <td>4e4de62abd4101d0d79dae8c</td>\n",
       "    </tr>\n",
       "  </tbody>\n",
       "</table>\n",
       "</div>"
      ],
      "text/plain": [
       "  Borough Neighborhood  Neigh_Latitude  Neigh_Longitude  \\\n",
       "0   Bronx    Wakefield       40.894705       -73.847201   \n",
       "1   Bronx    Wakefield       40.894705       -73.847201   \n",
       "\n",
       "                          Restaurant_Name Restaurant_City  \\\n",
       "0  Big Daddy's Caribbean Taste Restaurant           Bronx   \n",
       "1           Red Flower Chinese Restaurant           Bronx   \n",
       "\n",
       "                                  Restaurant_Address  Restaurant_Latitude  \\\n",
       "0  [4406 White Plains Rd (Nereid Avenue), Bronx, ...            40.899767   \n",
       "1  [4733 White Plains Rd, Bronx, NY 10470, United...            40.904359   \n",
       "\n",
       "   Restaurant_Longitude   Restaurant_Category       Foursquare_Venue_Id  \n",
       "0            -73.857135  Caribbean Restaurant  4db03c875da32cf2df4509f4  \n",
       "1            -73.849795    Chinese Restaurant  4e4de62abd4101d0d79dae8c  "
      ]
     },
     "execution_count": 16,
     "metadata": {},
     "output_type": "execute_result"
    }
   ],
   "source": [
    "# create a copy of the restaurants dataframe for storing the new list without the duplicate restaurants\n",
    "df_ny_restaurants = df_newyork_restaurants.drop_duplicates(subset='Foursquare_Venue_Id', keep='first', inplace=False)\n",
    "print (df_ny_restaurants.shape)\n",
    "df_ny_restaurants.head(2)"
   ]
  },
  {
   "cell_type": "markdown",
   "metadata": {},
   "source": [
    "Now we have the list of restaurants in the New York neighborhood."
   ]
  },
  {
   "cell_type": "markdown",
   "metadata": {},
   "source": [
    "### 3) Restaurant Ratings from Foursquare"
   ]
  },
  {
   "cell_type": "markdown",
   "metadata": {},
   "source": [
    "We will use the Venue Details API from Foursquare for getting the ratings for each of these restaurants."
   ]
  },
  {
   "cell_type": "code",
   "execution_count": 18,
   "metadata": {},
   "outputs": [
    {
     "name": "stderr",
     "output_type": "stream",
     "text": [
      "/opt/conda/envs/DSX-Python35/lib/python3.5/site-packages/pandas/core/indexing.py:357: SettingWithCopyWarning: \n",
      "A value is trying to be set on a copy of a slice from a DataFrame.\n",
      "Try using .loc[row_indexer,col_indexer] = value instead\n",
      "\n",
      "See the caveats in the documentation: http://pandas.pydata.org/pandas-docs/stable/indexing.html#indexing-view-versus-copy\n",
      "  self.obj[key] = _infer_fill_value(value)\n",
      "/opt/conda/envs/DSX-Python35/lib/python3.5/site-packages/pandas/core/indexing.py:537: SettingWithCopyWarning: \n",
      "A value is trying to be set on a copy of a slice from a DataFrame.\n",
      "Try using .loc[row_indexer,col_indexer] = value instead\n",
      "\n",
      "See the caveats in the documentation: http://pandas.pydata.org/pandas-docs/stable/indexing.html#indexing-view-versus-copy\n",
      "  self.obj[item] = s\n"
     ]
    },
    {
     "data": {
      "text/html": [
       "<div>\n",
       "<style scoped>\n",
       "    .dataframe tbody tr th:only-of-type {\n",
       "        vertical-align: middle;\n",
       "    }\n",
       "\n",
       "    .dataframe tbody tr th {\n",
       "        vertical-align: top;\n",
       "    }\n",
       "\n",
       "    .dataframe thead th {\n",
       "        text-align: right;\n",
       "    }\n",
       "</style>\n",
       "<table border=\"1\" class=\"dataframe\">\n",
       "  <thead>\n",
       "    <tr style=\"text-align: right;\">\n",
       "      <th></th>\n",
       "      <th>Borough</th>\n",
       "      <th>Neighborhood</th>\n",
       "      <th>Neigh_Latitude</th>\n",
       "      <th>Neigh_Longitude</th>\n",
       "      <th>Restaurant_Name</th>\n",
       "      <th>Restaurant_City</th>\n",
       "      <th>Restaurant_Address</th>\n",
       "      <th>Restaurant_Latitude</th>\n",
       "      <th>Restaurant_Longitude</th>\n",
       "      <th>Restaurant_Category</th>\n",
       "      <th>Foursquare_Venue_Id</th>\n",
       "      <th>Rating</th>\n",
       "    </tr>\n",
       "  </thead>\n",
       "  <tbody>\n",
       "    <tr>\n",
       "      <th>0</th>\n",
       "      <td>Bronx</td>\n",
       "      <td>Wakefield</td>\n",
       "      <td>40.894705</td>\n",
       "      <td>-73.847201</td>\n",
       "      <td>Big Daddy's Caribbean Taste Restaurant</td>\n",
       "      <td>Bronx</td>\n",
       "      <td>[4406 White Plains Rd (Nereid Avenue), Bronx, ...</td>\n",
       "      <td>40.899767</td>\n",
       "      <td>-73.857135</td>\n",
       "      <td>Caribbean Restaurant</td>\n",
       "      <td>4db03c875da32cf2df4509f4</td>\n",
       "      <td>0.0</td>\n",
       "    </tr>\n",
       "    <tr>\n",
       "      <th>1</th>\n",
       "      <td>Bronx</td>\n",
       "      <td>Wakefield</td>\n",
       "      <td>40.894705</td>\n",
       "      <td>-73.847201</td>\n",
       "      <td>Red Flower Chinese Restaurant</td>\n",
       "      <td>Bronx</td>\n",
       "      <td>[4733 White Plains Rd, Bronx, NY 10470, United...</td>\n",
       "      <td>40.904359</td>\n",
       "      <td>-73.849795</td>\n",
       "      <td>Chinese Restaurant</td>\n",
       "      <td>4e4de62abd4101d0d79dae8c</td>\n",
       "      <td>0.0</td>\n",
       "    </tr>\n",
       "  </tbody>\n",
       "</table>\n",
       "</div>"
      ],
      "text/plain": [
       "  Borough Neighborhood  Neigh_Latitude  Neigh_Longitude  \\\n",
       "0   Bronx    Wakefield       40.894705       -73.847201   \n",
       "1   Bronx    Wakefield       40.894705       -73.847201   \n",
       "\n",
       "                          Restaurant_Name Restaurant_City  \\\n",
       "0  Big Daddy's Caribbean Taste Restaurant           Bronx   \n",
       "1           Red Flower Chinese Restaurant           Bronx   \n",
       "\n",
       "                                  Restaurant_Address  Restaurant_Latitude  \\\n",
       "0  [4406 White Plains Rd (Nereid Avenue), Bronx, ...            40.899767   \n",
       "1  [4733 White Plains Rd, Bronx, NY 10470, United...            40.904359   \n",
       "\n",
       "   Restaurant_Longitude   Restaurant_Category       Foursquare_Venue_Id  \\\n",
       "0            -73.857135  Caribbean Restaurant  4db03c875da32cf2df4509f4   \n",
       "1            -73.849795    Chinese Restaurant  4e4de62abd4101d0d79dae8c   \n",
       "\n",
       "   Rating  \n",
       "0     0.0  \n",
       "1     0.0  "
      ]
     },
     "execution_count": 18,
     "metadata": {},
     "output_type": "execute_result"
    }
   ],
   "source": [
    "# Loop through the List of restaurants to find the ratings for each\n",
    "for index, row in df_ny_restaurants.iterrows():\n",
    "    VENUE_ID = row[10] # this is the Foursquare Venue Id\n",
    "    \n",
    "    # Use the Foursquare Venue details API to fetch the venue details\n",
    "    details_url = 'https://api.foursquare.com/v2/venues/{}?client_id={}&client_secret={}&v={}'.format(VENUE_ID,\n",
    "                                                                                                  CLIENT_ID,\n",
    "                                                                                                  CLIENT_SECRET,\n",
    "                                                                                                  VERSION)\n",
    "    venue_details = requests.get(details_url).json()\n",
    "    \n",
    "    # Read the rating for the venue from the API result\n",
    "    try:\n",
    "        rating = venue_details['response']['venue']['rating']\n",
    "    except:\n",
    "        rating = 0.0\n",
    "\n",
    "    # populate the rating onto the restaurants dataframe\n",
    "    df_ny_restaurants.loc[index, 'Rating'] = rating\n",
    "\n",
    "df_ny_restaurants.head(2)"
   ]
  },
  {
   "cell_type": "code",
   "execution_count": null,
   "metadata": {},
   "outputs": [],
   "source": []
  },
  {
   "cell_type": "code",
   "execution_count": null,
   "metadata": {},
   "outputs": [],
   "source": []
  }
 ],
 "metadata": {
  "kernelspec": {
   "display_name": "Python 3.5",
   "language": "python",
   "name": "python3"
  },
  "language_info": {
   "codemirror_mode": {
    "name": "ipython",
    "version": 3
   },
   "file_extension": ".py",
   "mimetype": "text/x-python",
   "name": "python",
   "nbconvert_exporter": "python",
   "pygments_lexer": "ipython3",
   "version": "3.5.5"
  }
 },
 "nbformat": 4,
 "nbformat_minor": 1
}
